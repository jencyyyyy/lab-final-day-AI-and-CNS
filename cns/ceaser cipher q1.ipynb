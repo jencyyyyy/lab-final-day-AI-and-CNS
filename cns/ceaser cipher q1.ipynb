{
 "cells": [
  {
   "cell_type": "code",
   "execution_count": 53,
   "metadata": {},
   "outputs": [],
   "source": [
    "def ceaser_en(plain,shift):\n",
    "    c_e= \"\"\n",
    "    for c in plain:\n",
    "        if c.isalpha():\n",
    "            base = ord('A') if c.isupper() else ord('a')\n",
    "            # print(base)\n",
    "            c = chr((ord(c)-base + shift) %26 +base)\n",
    "            # print(c)\n",
    "            c_e += c\n",
    "        else:\n",
    "            c_e += c\n",
    "\n",
    "    return c_e"
   ]
  },
  {
   "cell_type": "code",
   "execution_count": 60,
   "metadata": {},
   "outputs": [],
   "source": [
    "def ceaser_dep(cipher,shift):\n",
    "    dec = ''\n",
    "    for d in cipher:\n",
    "        if d.isalpha():\n",
    "            base = ord('A') if d.isupper() else ord('a')\n",
    "            # print(base)\n",
    "            d = chr((ord(d)- base - shift) %26 +base)\n",
    "            # print(d)\n",
    "            dec += d\n",
    "        else:\n",
    "            dec += d\n",
    "\n",
    "    return dec"
   ]
  },
  {
   "cell_type": "code",
   "execution_count": 33,
   "metadata": {},
   "outputs": [],
   "source": [
    "plaintext='Computer Science'"
   ]
  },
  {
   "cell_type": "code",
   "execution_count": 34,
   "metadata": {},
   "outputs": [],
   "source": [
    "shift=3\n",
    "w=5"
   ]
  },
  {
   "cell_type": "code",
   "execution_count": 35,
   "metadata": {},
   "outputs": [
    {
     "data": {
      "text/plain": [
       "'Frpsxwhu Vflhqfh'"
      ]
     },
     "execution_count": 35,
     "metadata": {},
     "output_type": "execute_result"
    }
   ],
   "source": [
    "for_transpose= ceaser_en(plaintext,shift)\n",
    "for_transpose"
   ]
  },
  {
   "cell_type": "code",
   "execution_count": 55,
   "metadata": {},
   "outputs": [],
   "source": [
    "def transpn_cipher_en(text, width):\n",
    "    text = text.ljust(((len(text) // width) + 1) * width)\n",
    "    transposed_text = [''] * width\n",
    "    for i in range(width):\n",
    "        for j in range(i, len(text), width):\n",
    "            transposed_text[i] += text[j]\n",
    "    return ''.join(transposed_text)\n"
   ]
  },
  {
   "cell_type": "code",
   "execution_count": 39,
   "metadata": {},
   "outputs": [],
   "source": [
    "def transposition_cipher_decrypt(text, width):\n",
    "    height = len(text) // width\n",
    "    decrypted_text = [''] * height\n",
    "    k = 0\n",
    "    for i in range(width):\n",
    "        for j in range(height):\n",
    "            decrypted_text[j] += text[k]\n",
    "            k += 1\n",
    "    return ''.join(decrypted_text).strip()"
   ]
  },
  {
   "cell_type": "code",
   "execution_count": 70,
   "metadata": {},
   "outputs": [
    {
     "data": {
      "text/plain": [
       "'Computer Science'"
      ]
     },
     "execution_count": 70,
     "metadata": {},
     "output_type": "execute_result"
    }
   ],
   "source": [
    "plaintext"
   ]
  },
  {
   "cell_type": "code",
   "execution_count": 61,
   "metadata": {},
   "outputs": [
    {
     "data": {
      "text/plain": [
       "'Frpsxwhu Vflhqfh'"
      ]
     },
     "execution_count": 61,
     "metadata": {},
     "output_type": "execute_result"
    }
   ],
   "source": [
    "c = ceaser_en(plaintext,shift)\n",
    "c"
   ]
  },
  {
   "cell_type": "code",
   "execution_count": 63,
   "metadata": {},
   "outputs": [
    {
     "data": {
      "text/plain": [
       "'Fwfhrhl puh s q xVf '"
      ]
     },
     "execution_count": 63,
     "metadata": {},
     "output_type": "execute_result"
    }
   ],
   "source": [
    "\n",
    "transposed_ciiph= transpn_cipher_en(for_transpose,w)\n",
    "transposed_ciiph"
   ]
  },
  {
   "cell_type": "code",
   "execution_count": 64,
   "metadata": {},
   "outputs": [
    {
     "data": {
      "text/plain": [
       "'Frpsxwhu Vflhqfh'"
      ]
     },
     "execution_count": 64,
     "metadata": {},
     "output_type": "execute_result"
    }
   ],
   "source": [
    "t_decrypt = transposition_cipher_decrypt(transposed_ciiph,w)\n",
    "t_decrypt"
   ]
  },
  {
   "cell_type": "code",
   "execution_count": 69,
   "metadata": {},
   "outputs": [
    {
     "data": {
      "text/plain": [
       "'Computer Science'"
      ]
     },
     "execution_count": 69,
     "metadata": {},
     "output_type": "execute_result"
    }
   ],
   "source": [
    "original = ceaser_dep(t_decrypt,shift)\n",
    "original"
   ]
  }
 ],
 "metadata": {
  "kernelspec": {
   "display_name": "Python 3",
   "language": "python",
   "name": "python3"
  },
  "language_info": {
   "codemirror_mode": {
    "name": "ipython",
    "version": 3
   },
   "file_extension": ".py",
   "mimetype": "text/x-python",
   "name": "python",
   "nbconvert_exporter": "python",
   "pygments_lexer": "ipython3",
   "version": "3.12.4"
  }
 },
 "nbformat": 4,
 "nbformat_minor": 2
}
