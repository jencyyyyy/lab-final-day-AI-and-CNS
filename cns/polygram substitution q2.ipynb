{
 "cells": [
  {
   "cell_type": "code",
   "execution_count": 35,
   "metadata": {},
   "outputs": [],
   "source": [
    "map={\n",
    "    'goo':'XYZ',\n",
    "    'all':'qwe',\n",
    "    'the':'dfg',\n",
    "    'abc':'gng',\n",
    "    'wis':'krv',\n",
    "    'hes':'oea'\n",
    "}"
   ]
  },
  {
   "cell_type": "code",
   "execution_count": 36,
   "metadata": {},
   "outputs": [],
   "source": [
    "plain = 'gooalltheabcwishesgoo'"
   ]
  },
  {
   "cell_type": "code",
   "execution_count": 37,
   "metadata": {},
   "outputs": [],
   "source": [
    "rev_sub_map= {\n",
    "    v:k for k,v in map.items()\n",
    "}"
   ]
  },
  {
   "cell_type": "code",
   "execution_count": 38,
   "metadata": {},
   "outputs": [
    {
     "data": {
      "text/plain": [
       "{'XYZ': 'goo',\n",
       " 'qwe': 'all',\n",
       " 'dfg': 'the',\n",
       " 'gng': 'abc',\n",
       " 'krv': 'wis',\n",
       " 'oea': 'hes'}"
      ]
     },
     "execution_count": 38,
     "metadata": {},
     "output_type": "execute_result"
    }
   ],
   "source": [
    "rev_sub_map"
   ]
  },
  {
   "cell_type": "code",
   "execution_count": 39,
   "metadata": {},
   "outputs": [],
   "source": [
    "def poly_sub_en(plaint):\n",
    "    cip =\"\"\n",
    "    for i in range(0, len(plaint),3):\n",
    "        blk= plaint[i:i+3]\n",
    "        cip+=map.get(blk,blk)\n",
    "    return cip"
   ]
  },
  {
   "cell_type": "code",
   "execution_count": 40,
   "metadata": {},
   "outputs": [],
   "source": [
    "def ploy_sub_dep(cipt):\n",
    "    plain = \"\"\n",
    "    for c in range (0,len(cipt),3):\n",
    "        blk = cipt[c:c+3]\n",
    "        plain += rev_sub_map.get(blk,blk)\n",
    "    return plain"
   ]
  },
  {
   "cell_type": "code",
   "execution_count": 41,
   "metadata": {},
   "outputs": [
    {
     "data": {
      "text/plain": [
       "'XYZqwedfggngkrvoeaXYZ'"
      ]
     },
     "execution_count": 41,
     "metadata": {},
     "output_type": "execute_result"
    }
   ],
   "source": [
    "poly_sub_value = poly_sub_en(plain)\n",
    "poly_sub_value"
   ]
  },
  {
   "cell_type": "code",
   "execution_count": 42,
   "metadata": {},
   "outputs": [
    {
     "data": {
      "text/plain": [
       "'gooalltheabcwishesgoo'"
      ]
     },
     "execution_count": 42,
     "metadata": {},
     "output_type": "execute_result"
    }
   ],
   "source": [
    "get_original = ploy_sub_dep(poly_sub_value)\n",
    "get_original"
   ]
  },
  {
   "cell_type": "code",
   "execution_count": 43,
   "metadata": {},
   "outputs": [
    {
     "data": {
      "text/plain": [
       "'gooalltheabcwishesgoo'"
      ]
     },
     "execution_count": 43,
     "metadata": {},
     "output_type": "execute_result"
    }
   ],
   "source": [
    "plain"
   ]
  }
 ],
 "metadata": {
  "kernelspec": {
   "display_name": "Python 3",
   "language": "python",
   "name": "python3"
  },
  "language_info": {
   "codemirror_mode": {
    "name": "ipython",
    "version": 3
   },
   "file_extension": ".py",
   "mimetype": "text/x-python",
   "name": "python",
   "nbconvert_exporter": "python",
   "pygments_lexer": "ipython3",
   "version": "3.12.4"
  }
 },
 "nbformat": 4,
 "nbformat_minor": 2
}
